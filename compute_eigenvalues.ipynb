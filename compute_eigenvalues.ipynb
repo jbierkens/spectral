{
 "cells": [
  {
   "cell_type": "code",
   "execution_count": 1,
   "metadata": {},
   "outputs": [
    {
     "name": "stderr",
     "output_type": "stream",
     "text": [
      "┌ Info: Recompiling stale cache file /home/joris/.julia/compiled/v1.0/PyPlot/oatAj.ji for PyPlot [d330b81b-6aea-500a-939a-2ce795aea3ee]\n",
      "└ @ Base loading.jl:1190\n"
     ]
    }
   ],
   "source": [
    "using PyPlot;\n",
    "using SpecialFunctions;\n",
    "include(\"complex_roots.jl\");\n",
    "include(\"spectrum.jl\");"
   ]
  },
  {
   "cell_type": "code",
   "execution_count": 2,
   "metadata": {},
   "outputs": [],
   "source": [
    "R = 2; rectangle = [-R,0.001,-R,R];"
   ]
  },
  {
   "cell_type": "markdown",
   "metadata": {},
   "source": [
    "<h1>General potentials</h1>"
   ]
  },
  {
   "cell_type": "code",
   "execution_count": 3,
   "metadata": {},
   "outputs": [],
   "source": [
    "β = 2\n",
    "U(x)=(1+x^2)^(β/2)/β-1/β;\n",
    "dUdx(x)=x*(1+x^2)^(β/2-1);"
   ]
  },
  {
   "cell_type": "code",
   "execution_count": 4,
   "metadata": {},
   "outputs": [],
   "source": [
    "(psi,dpsidz)=construct_ψ(U,dUdx);"
   ]
  },
  {
   "cell_type": "code",
   "execution_count": 8,
   "metadata": {},
   "outputs": [
    {
     "data": {
      "text/plain": [
       "10000"
      ]
     },
     "execution_count": 8,
     "metadata": {},
     "output_type": "execute_result"
    }
   ],
   "source": [
    "maxevals = 10^4"
   ]
  },
  {
   "cell_type": "code",
   "execution_count": 13,
   "metadata": {
    "scrolled": true
   },
   "outputs": [],
   "source": [
    "integrand_plus(z::Complex) = - dpsidz(z)/(1-psi(z));\n",
    "integrand_minus(z::Complex) = dpsidz(z)/(1+psi(z));"
   ]
  },
  {
   "cell_type": "code",
   "execution_count": 16,
   "metadata": {},
   "outputs": [
    {
     "name": "stdout",
     "output_type": "stream",
     "text": [
      "Number of rectangles: 1\n",
      "Number of roots: 5\n",
      "Number of rectangles: 4\n",
      "Number of rectangles: 4\n",
      "Number of rectangles: 4\n"
     ]
    },
    {
     "data": {
      "text/plain": [
       "5-element Array{Complex,1}:\n",
       "     -1.539403216043573 - 1.902929724231753im    \n",
       "    -0.9579954288082321 - 1.4081797090760637im   \n",
       "    -1.5394032160436129 + 1.9029297242317942im   \n",
       " -2.752394594656779e-14 - 7.341780389711618e-15im\n",
       "    -0.9579954288081849 + 1.4081797090760626im   "
      ]
     },
     "execution_count": 16,
     "metadata": {},
     "output_type": "execute_result"
    }
   ],
   "source": [
    "roots_plus = qz40(integrand_plus,rectangle,true,maxevals)"
   ]
  },
  {
   "cell_type": "code",
   "execution_count": 17,
   "metadata": {},
   "outputs": [
    {
     "name": "stdout",
     "output_type": "stream",
     "text": [
      "Number of rectangles: 1\n",
      "Number of roots: 4\n",
      "Number of rectangles: 4\n"
     ]
    },
    {
     "data": {
      "text/plain": [
       "4-element Array{Complex,1}:\n",
       " -1.2661624294757716 - 1.6675695587427692im\n",
       " -0.4256652293470981 - 1.0229524328461115im\n",
       " -0.4256652293470777 + 1.0229524328461455im\n",
       "  -1.266162429475764 + 1.6675695587427328im"
      ]
     },
     "execution_count": 17,
     "metadata": {},
     "output_type": "execute_result"
    }
   ],
   "source": [
    "roots_minus = qz40(integrand_minus,rectangle,true,maxevals)"
   ]
  },
  {
   "cell_type": "code",
   "execution_count": 18,
   "metadata": {},
   "outputs": [
    {
     "data": {
      "image/png": "[encoded data removed]",
      "text/plain": [
       "Figure(PyObject <matplotlib.figure.Figure object at 0x7fd80e072860>)"
      ]
     },
     "metadata": {},
     "output_type": "display_data"
    }
   ],
   "source": [
    "scatter(real(roots_plus),imag(roots_plus));\n",
    "scatter(real(roots_minus),imag(roots_minus),c=\"r\");\n",
    "xlim(-R,0);\n",
    "ylim(-R,R);\n",
    "savefig(\"spectrum-beta-$(β)-maxevals-$(maxevals).pdf\",format=\"pdf\")"
   ]
  },
  {
   "cell_type": "markdown",
   "metadata": {},
   "source": [
    "# Direct numerical computation of integrand in the Gaussian case"
   ]
  },
  {
   "cell_type": "code",
   "execution_count": 5,
   "metadata": {},
   "outputs": [],
   "source": [
    "Zplus(gamma::Complex) = exp(2 * gamma^2.0) * (2 * pi)^(.5)*gamma*erfc(sqrt(2)*gamma);\n",
    "Zmin(gamma::Complex) = 2 - exp(2 * gamma^2.0) * (2 * pi)^(.5)*gamma*erfc(sqrt(2)*gamma);"
   ]
  },
  {
   "cell_type": "code",
   "execution_count": 6,
   "metadata": {},
   "outputs": [],
   "source": [
    "integrand_plus(gamma::Complex) = 1/gamma + 4 * gamma - 2 * exp(-2*gamma^2)*sqrt(2/pi)/erfc(sqrt(2)*gamma);\n",
    "integrand_minus(gamma::Complex) = 1/gamma + 4 * gamma + (2 + 4 * gamma^2)/(-2*gamma + exp(2*gamma^2)*sqrt(2*pi)*gamma^2*erfc(sqrt(2)*gamma));"
   ]
  },
  {
   "cell_type": "code",
   "execution_count": 9,
   "metadata": {},
   "outputs": [
    {
     "name": "stdout",
     "output_type": "stream",
     "text": [
      "Number of rectangles: 1\n",
      "Number of roots: 5\n",
      "Number of rectangles: 4\n",
      "Number of rectangles: 8\n",
      "Number of rectangles: 4\n"
     ]
    },
    {
     "data": {
      "text/plain": [
       "5-element Array{Complex,1}:\n",
       " 9.583767741345689e-17 + 1.1052220450723647e-17im\n",
       "   -0.9579954288082124 + 1.4081797090760015im    \n",
       "   -1.5394032160435887 + 1.902929724231748im     \n",
       "   -1.5394032160435933 - 1.9029297242317533im    \n",
       "   -0.9579954288082102 - 1.4081797090759962im    "
      ]
     },
     "execution_count": 9,
     "metadata": {},
     "output_type": "execute_result"
    }
   ],
   "source": [
    "roots_plus = qz40(integrand_plus,rectangle,true,maxevals)"
   ]
  },
  {
   "cell_type": "code",
   "execution_count": 10,
   "metadata": {},
   "outputs": [
    {
     "name": "stdout",
     "output_type": "stream",
     "text": [
      "Number of rectangles: 1\n",
      "Number of roots: 4\n",
      "Number of rectangles: 4\n",
      "Number of rectangles: 8\n",
      "Number of rectangles: 4\n"
     ]
    },
    {
     "data": {
      "text/plain": [
       "4-element Array{Complex,1}:\n",
       " -0.42566522934602785 + 1.022952432845314im \n",
       "  -1.2661624294766947 + 1.6675695587434711im\n",
       "  -1.2661624294766929 - 1.6675695587434713im\n",
       "  -0.4256652293460278 - 1.0229524328453123im"
      ]
     },
     "execution_count": 10,
     "metadata": {},
     "output_type": "execute_result"
    }
   ],
   "source": [
    "roots_minus = qz40(integrand_minus,rectangle,true,maxevals)"
   ]
  },
  {
   "cell_type": "code",
   "execution_count": 11,
   "metadata": {},
   "outputs": [
    {
     "name": "stdout",
     "output_type": "stream",
     "text": [
      "Number of rectangles: 1\n",
      "Number of roots: 5\n",
      "Number of rectangles: 4\n",
      "Number of rectangles: 4\n",
      "Number of rectangles: 4\n"
     ]
    },
    {
     "data": {
      "text/plain": [
       "5-element Array{Complex,1}:\n",
       "     -1.5394032160435915 - 1.902929724231751im     \n",
       "     -0.9579954288082109 + 1.4081797090759984im    \n",
       "     -1.5394032160435913 + 1.9029297242317513im    \n",
       "     -0.9579954288082119 - 1.4081797090759973im    \n",
       " -1.6423892935204945e-16 - 1.2344665902338325e-16im"
      ]
     },
     "execution_count": 11,
     "metadata": {},
     "output_type": "execute_result"
    }
   ],
   "source": [
    "roots_plus = qz40(integrand_plus,rectangle,true,10^5)"
   ]
  },
  {
   "cell_type": "code",
   "execution_count": 12,
   "metadata": {},
   "outputs": [
    {
     "name": "stdout",
     "output_type": "stream",
     "text": [
      "Number of rectangles: 1\n",
      "Number of roots: 4\n",
      "Number of rectangles: 4\n",
      "Number of rectangles: 4\n",
      "Number of rectangles: 4\n",
      "Number of rectangles: 4\n"
     ]
    },
    {
     "data": {
      "text/plain": [
       "4-element Array{Complex,1}:\n",
       "  -1.2661624294766962 + 1.6675695587434705im\n",
       "  -0.4256652293460295 + 1.0229524328453152im\n",
       "   -1.266162429476694 - 1.6675695587434682im\n",
       " -0.42566522934602835 - 1.0229524328453132im"
      ]
     },
     "execution_count": 12,
     "metadata": {},
     "output_type": "execute_result"
    }
   ],
   "source": [
    "roots_minus = qz40(integrand_minus,rectangle,true,10^5)"
   ]
  },
  {
   "cell_type": "code",
   "execution_count": 13,
   "metadata": {
    "scrolled": false
   },
   "outputs": [
    {
     "data": {
      "image/png": "[encoded data removed]",
      "text/plain": [
       "Figure(PyObject <Figure size 640x480 with 1 Axes>)"
      ]
     },
     "metadata": {},
     "output_type": "display_data"
    },
    {
     "data": {
      "text/plain": [
       "(0, 2.0)"
      ]
     },
     "execution_count": 13,
     "metadata": {},
     "output_type": "execute_result"
    }
   ],
   "source": [
    "scatter(real(roots_plus),imag(roots_plus))\n",
    "scatter(real(roots_minus),imag(roots_minus),c=\"r\")\n",
    "xlim(-R,0)\n",
    "ylim(0,R)\n",
    "# savefig(\"spectrum-gaussian-2.pdf\",format=\"pdf\")"
   ]
  },
  {
   "cell_type": "markdown",
   "metadata": {},
   "source": [
    "# Approximation of the roots (Gaussian case)"
   ]
  },
  {
   "cell_type": "code",
   "execution_count": 14,
   "metadata": {},
   "outputs": [
    {
     "data": {
      "text/plain": [
       "dlogZplus_appr_dgamma (generic function with 1 method)"
      ]
     },
     "execution_count": 14,
     "metadata": {},
     "output_type": "execute_result"
    }
   ],
   "source": [
    "dlogZplus_appr_dgamma(gamma) = (sqrt(2*pi)*exp(2 * gamma^2) + 4 *sqrt(2*pi)*gamma^2*exp(2 * gamma^2))/(sqrt(2*pi)*gamma*exp(2*gamma^2)+1/2)"
   ]
  },
  {
   "cell_type": "code",
   "execution_count": 15,
   "metadata": {},
   "outputs": [
    {
     "data": {
      "text/plain": [
       "dlogZminus_appr_dgamma (generic function with 1 method)"
      ]
     },
     "execution_count": 15,
     "metadata": {},
     "output_type": "execute_result"
    }
   ],
   "source": [
    "dlogZminus_appr_dgamma(gamma) = (sqrt(2*pi)*exp(2 * gamma^2) + 4 *sqrt(2*pi)*gamma^2*exp(2 * gamma^2))/(sqrt(2*pi)*gamma*exp(2*gamma^2)-1/2)"
   ]
  },
  {
   "cell_type": "code",
   "execution_count": 16,
   "metadata": {},
   "outputs": [
    {
     "data": {
      "text/plain": [
       "3-element Array{Complex,1}:\n",
       "   -1.535869856410733 + 1.90043379759853im     \n",
       " -0.18611944901780922 + 3.589167609290427e-16im\n",
       "  -0.9464563966700834 + 1.4016267133933225im   "
      ]
     },
     "execution_count": 16,
     "metadata": {},
     "output_type": "execute_result"
    }
   ],
   "source": [
    "roots_plus_appr = qz40(dlogZplus_appr_dgamma,rectangle)"
   ]
  },
  {
   "cell_type": "code",
   "execution_count": 17,
   "metadata": {},
   "outputs": [
    {
     "data": {
      "text/plain": [
       "2-element Array{Complex,1}:\n",
       " -0.47509846339374673 + 1.0501296624546987im\n",
       "  -1.2718034369347988 + 1.6717100350860312im"
      ]
     },
     "execution_count": 17,
     "metadata": {},
     "output_type": "execute_result"
    }
   ],
   "source": [
    "roots_minus_appr = qz40(dlogZminus_appr_dgamma,rectangle)"
   ]
  },
  {
   "cell_type": "code",
   "execution_count": 18,
   "metadata": {},
   "outputs": [
    {
     "data": {
      "image/png": "[encoded data removed]",
      "text/plain": [
       "Figure(PyObject <Figure size 640x480 with 1 Axes>)"
      ]
     },
     "metadata": {},
     "output_type": "display_data"
    },
    {
     "data": {
      "text/plain": [
       "(0, 2.0)"
      ]
     },
     "execution_count": 18,
     "metadata": {},
     "output_type": "execute_result"
    }
   ],
   "source": [
    "scatter(real(roots_plus),imag(roots_plus))\n",
    "scatter(real(roots_minus),imag(roots_minus),c=\"r\")\n",
    "scatter(real(roots_plus_appr),imag(roots_plus_appr),c=\"c\")\n",
    "scatter(real(roots_minus_appr),imag(roots_minus_appr),c=\"m\")\n",
    "xlim(-R,0)\n",
    "ylim(0,R)\n",
    "# savefig(\"spectrum-gaussian-2.pdf\",format=\"pdf\")"
   ]
  }
 ],
 "metadata": {
  "@webio": {
   "lastCommId": "680d1963cfab40f881cc9b8c6d13ebc3",
   "lastKernelId": "b9d893ac-4da5-40b4-9685-95b6c9741221"
  },
  "kernelspec": {
   "display_name": "Julia 1.0.2",
   "language": "julia",
   "name": "julia-1.0"
  },
  "language_info": {
   "file_extension": ".jl",
   "mimetype": "application/julia",
   "name": "julia",
   "version": "1.0.2"
  }
 },
 "nbformat": 4,
 "nbformat_minor": 2
}
